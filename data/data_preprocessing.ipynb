{
 "cells": [
  {
   "cell_type": "markdown",
   "metadata": {},
   "source": [
    "# 预处理"
   ]
  },
  {
   "cell_type": "code",
   "execution_count": 2,
   "metadata": {},
   "outputs": [],
   "source": [
    "import pandas as pd\n",
    "path = 'ratings.csv'\n",
    "pd_ratings = pd.read_csv(path)"
   ]
  },
  {
   "cell_type": "code",
   "execution_count": 37,
   "metadata": {},
   "outputs": [],
   "source": [
    "path = 'reviews.csv'\n",
    "data = pd.read_csv(path)"
   ]
  },
  {
   "cell_type": "code",
   "execution_count": 38,
   "metadata": {
    "scrolled": true
   },
   "outputs": [
    {
     "name": "stdout",
     "output_type": "stream",
     "text": [
      "<class 'pandas.core.frame.DataFrame'>\n",
      "RangeIndex: 3197754 entries, 0 to 3197753\n",
      "Data columns (total 11 columns):\n",
      "userId               int64\n",
      "restId               int64\n",
      "rating               float64\n",
      "rating_env           float64\n",
      "rating_flavor        float64\n",
      "rating_service       float64\n",
      "timestamp            int64\n",
      "comment              object\n",
      "comment_after_cut    object\n",
      "length               int64\n",
      "category             int64\n",
      "dtypes: float64(4), int64(5), object(2)\n",
      "memory usage: 268.4+ MB\n"
     ]
    }
   ],
   "source": [
    "data.info()"
   ]
  },
  {
   "cell_type": "code",
   "execution_count": 39,
   "metadata": {
    "scrolled": true
   },
   "outputs": [
    {
     "data": {
      "text/html": [
       "<div>\n",
       "<style scoped>\n",
       "    .dataframe tbody tr th:only-of-type {\n",
       "        vertical-align: middle;\n",
       "    }\n",
       "\n",
       "    .dataframe tbody tr th {\n",
       "        vertical-align: top;\n",
       "    }\n",
       "\n",
       "    .dataframe thead th {\n",
       "        text-align: right;\n",
       "    }\n",
       "</style>\n",
       "<table border=\"1\" class=\"dataframe\">\n",
       "  <thead>\n",
       "    <tr style=\"text-align: right;\">\n",
       "      <th></th>\n",
       "      <th>userId</th>\n",
       "      <th>restId</th>\n",
       "      <th>rating</th>\n",
       "      <th>rating_env</th>\n",
       "      <th>rating_flavor</th>\n",
       "      <th>rating_service</th>\n",
       "      <th>timestamp</th>\n",
       "      <th>comment</th>\n",
       "      <th>comment_after_cut</th>\n",
       "      <th>length</th>\n",
       "      <th>category</th>\n",
       "    </tr>\n",
       "  </thead>\n",
       "  <tbody>\n",
       "    <tr>\n",
       "      <td>0</td>\n",
       "      <td>0</td>\n",
       "      <td>0</td>\n",
       "      <td>2.0</td>\n",
       "      <td>3.0</td>\n",
       "      <td>3.0</td>\n",
       "      <td>2.0</td>\n",
       "      <td>1250584020000</td>\n",
       "      <td>经常去的，不过我自己的卡很久不用，被冻了，只能用爸爸的。吉利莲的巧克力以前选择多些，最近一次...</td>\n",
       "      <td>经常 卡 久 不用 冻 只能 爸爸 吉利 莲 巧克力 以前 选择 多些 最近 一次 一种 选...</td>\n",
       "      <td>40</td>\n",
       "      <td>0</td>\n",
       "    </tr>\n",
       "    <tr>\n",
       "      <td>1</td>\n",
       "      <td>1</td>\n",
       "      <td>0</td>\n",
       "      <td>4.0</td>\n",
       "      <td>4.0</td>\n",
       "      <td>4.0</td>\n",
       "      <td>4.0</td>\n",
       "      <td>1145639040000</td>\n",
       "      <td>喜欢在这里购物的感觉~~不在市中心,又是凭会员卡购物,因此不会有像家乐福\\沃尔马那种人多很挤...</td>\n",
       "      <td>喜欢 购物 感觉 市中心 会员卡 购物 不会 家乐福 沃尔马 那种 人多 很挤 场面 购物 ...</td>\n",
       "      <td>27</td>\n",
       "      <td>1</td>\n",
       "    </tr>\n",
       "    <tr>\n",
       "      <td>2</td>\n",
       "      <td>4</td>\n",
       "      <td>0</td>\n",
       "      <td>3.0</td>\n",
       "      <td>3.0</td>\n",
       "      <td>4.0</td>\n",
       "      <td>3.0</td>\n",
       "      <td>1201107000000</td>\n",
       "      <td>里面有一些进口食品还是不错的，但个人感觉商品种类比较少，而且管理不是很灵活，退货比较麻烦。价...</td>\n",
       "      <td>里面 进口 食品 不错 个人感觉 商品种类 比较 少 管理 灵活 退货 比较 麻烦 价格 方...</td>\n",
       "      <td>24</td>\n",
       "      <td>0</td>\n",
       "    </tr>\n",
       "    <tr>\n",
       "      <td>3</td>\n",
       "      <td>5</td>\n",
       "      <td>0</td>\n",
       "      <td>3.0</td>\n",
       "      <td>4.0</td>\n",
       "      <td>4.0</td>\n",
       "      <td>3.0</td>\n",
       "      <td>1218604860000</td>\n",
       "      <td>虽然是有一些不方便,但购物环境比较舒服,人少,房高,感觉很通透,不像别的商场人多,楼层低,人...</td>\n",
       "      <td>方便 购物 环境 比较 舒服 人少 房高 感觉 通透 不像 商场 人多 楼层 低人 很闷 不...</td>\n",
       "      <td>25</td>\n",
       "      <td>0</td>\n",
       "    </tr>\n",
       "    <tr>\n",
       "      <td>4</td>\n",
       "      <td>6</td>\n",
       "      <td>0</td>\n",
       "      <td>3.0</td>\n",
       "      <td>4.0</td>\n",
       "      <td>4.0</td>\n",
       "      <td>3.0</td>\n",
       "      <td>1281275820000</td>\n",
       "      <td>非常喜欢这个德国超市，他家各类东东都品牌齐全，不像沃尔玛、家乐福之类只有便宜货。经常能找到一...</td>\n",
       "      <td>非常 喜欢 德国 超市 他家 各类 东东 品牌 齐全 不像 沃尔玛 家乐福 便宜货 经常 找...</td>\n",
       "      <td>41</td>\n",
       "      <td>0</td>\n",
       "    </tr>\n",
       "  </tbody>\n",
       "</table>\n",
       "</div>"
      ],
      "text/plain": [
       "   userId  restId  rating  rating_env  rating_flavor  rating_service  \\\n",
       "0       0       0     2.0         3.0            3.0             2.0   \n",
       "1       1       0     4.0         4.0            4.0             4.0   \n",
       "2       4       0     3.0         3.0            4.0             3.0   \n",
       "3       5       0     3.0         4.0            4.0             3.0   \n",
       "4       6       0     3.0         4.0            4.0             3.0   \n",
       "\n",
       "       timestamp                                            comment  \\\n",
       "0  1250584020000  经常去的，不过我自己的卡很久不用，被冻了，只能用爸爸的。吉利莲的巧克力以前选择多些，最近一次...   \n",
       "1  1145639040000  喜欢在这里购物的感觉~~不在市中心,又是凭会员卡购物,因此不会有像家乐福\\沃尔马那种人多很挤...   \n",
       "2  1201107000000  里面有一些进口食品还是不错的，但个人感觉商品种类比较少，而且管理不是很灵活，退货比较麻烦。价...   \n",
       "3  1218604860000  虽然是有一些不方便,但购物环境比较舒服,人少,房高,感觉很通透,不像别的商场人多,楼层低,人...   \n",
       "4  1281275820000  非常喜欢这个德国超市，他家各类东东都品牌齐全，不像沃尔玛、家乐福之类只有便宜货。经常能找到一...   \n",
       "\n",
       "                                   comment_after_cut  length  category  \n",
       "0  经常 卡 久 不用 冻 只能 爸爸 吉利 莲 巧克力 以前 选择 多些 最近 一次 一种 选...      40         0  \n",
       "1  喜欢 购物 感觉 市中心 会员卡 购物 不会 家乐福 沃尔马 那种 人多 很挤 场面 购物 ...      27         1  \n",
       "2  里面 进口 食品 不错 个人感觉 商品种类 比较 少 管理 灵活 退货 比较 麻烦 价格 方...      24         0  \n",
       "3  方便 购物 环境 比较 舒服 人少 房高 感觉 通透 不像 商场 人多 楼层 低人 很闷 不...      25         0  \n",
       "4  非常 喜欢 德国 超市 他家 各类 东东 品牌 齐全 不像 沃尔玛 家乐福 便宜货 经常 找...      41         0  "
      ]
     },
     "execution_count": 39,
     "metadata": {},
     "output_type": "execute_result"
    }
   ],
   "source": [
    "data.head()"
   ]
  },
  {
   "cell_type": "code",
   "execution_count": 40,
   "metadata": {
    "scrolled": true
   },
   "outputs": [
    {
     "data": {
      "text/plain": [
       "userId                  0\n",
       "restId                  0\n",
       "rating                  0\n",
       "rating_env              0\n",
       "rating_flavor           0\n",
       "rating_service          0\n",
       "timestamp               0\n",
       "comment                 0\n",
       "comment_after_cut    2188\n",
       "length                  0\n",
       "category                0\n",
       "dtype: int64"
      ]
     },
     "execution_count": 40,
     "metadata": {},
     "output_type": "execute_result"
    }
   ],
   "source": [
    "data.isnull().sum()"
   ]
  },
  {
   "cell_type": "code",
   "execution_count": 41,
   "metadata": {},
   "outputs": [
    {
     "data": {
      "text/html": [
       "<div>\n",
       "<style scoped>\n",
       "    .dataframe tbody tr th:only-of-type {\n",
       "        vertical-align: middle;\n",
       "    }\n",
       "\n",
       "    .dataframe tbody tr th {\n",
       "        vertical-align: top;\n",
       "    }\n",
       "\n",
       "    .dataframe thead th {\n",
       "        text-align: right;\n",
       "    }\n",
       "</style>\n",
       "<table border=\"1\" class=\"dataframe\">\n",
       "  <thead>\n",
       "    <tr style=\"text-align: right;\">\n",
       "      <th></th>\n",
       "      <th>userId</th>\n",
       "      <th>restId</th>\n",
       "      <th>rating</th>\n",
       "      <th>rating_env</th>\n",
       "      <th>rating_flavor</th>\n",
       "      <th>rating_service</th>\n",
       "      <th>timestamp</th>\n",
       "      <th>comment</th>\n",
       "      <th>comment_after_cut</th>\n",
       "      <th>length</th>\n",
       "      <th>category</th>\n",
       "    </tr>\n",
       "  </thead>\n",
       "  <tbody>\n",
       "    <tr>\n",
       "      <td>677</td>\n",
       "      <td>725</td>\n",
       "      <td>25</td>\n",
       "      <td>4.0</td>\n",
       "      <td>1.0</td>\n",
       "      <td>5.0</td>\n",
       "      <td>3.0</td>\n",
       "      <td>1273893000000</td>\n",
       "      <td>Number of visits: too many to count\\nI've sear...</td>\n",
       "      <td>NaN</td>\n",
       "      <td>0</td>\n",
       "      <td>1</td>\n",
       "    </tr>\n",
       "    <tr>\n",
       "      <td>3417</td>\n",
       "      <td>3469</td>\n",
       "      <td>120</td>\n",
       "      <td>1.0</td>\n",
       "      <td>3.0</td>\n",
       "      <td>1.0</td>\n",
       "      <td>3.0</td>\n",
       "      <td>1258293240000</td>\n",
       "      <td>bad！\\nAll the consumption need add 10% service...</td>\n",
       "      <td>NaN</td>\n",
       "      <td>0</td>\n",
       "      <td>0</td>\n",
       "    </tr>\n",
       "    <tr>\n",
       "      <td>4756</td>\n",
       "      <td>4987</td>\n",
       "      <td>165</td>\n",
       "      <td>1.0</td>\n",
       "      <td>0.0</td>\n",
       "      <td>0.0</td>\n",
       "      <td>0.0</td>\n",
       "      <td>1310127240000</td>\n",
       "      <td>compaing to other parks, this one is not that ...</td>\n",
       "      <td>NaN</td>\n",
       "      <td>0</td>\n",
       "      <td>0</td>\n",
       "    </tr>\n",
       "    <tr>\n",
       "      <td>10580</td>\n",
       "      <td>10388</td>\n",
       "      <td>329</td>\n",
       "      <td>2.0</td>\n",
       "      <td>0.0</td>\n",
       "      <td>0.0</td>\n",
       "      <td>0.0</td>\n",
       "      <td>1283387280000</td>\n",
       "      <td>In the city, it is occupied by, geography, and...</td>\n",
       "      <td>NaN</td>\n",
       "      <td>0</td>\n",
       "      <td>0</td>\n",
       "    </tr>\n",
       "    <tr>\n",
       "      <td>10596</td>\n",
       "      <td>10404</td>\n",
       "      <td>329</td>\n",
       "      <td>5.0</td>\n",
       "      <td>0.0</td>\n",
       "      <td>0.0</td>\n",
       "      <td>0.0</td>\n",
       "      <td>1301124600000</td>\n",
       "      <td>I am in Shanghai to a golf still is not easy. ...</td>\n",
       "      <td>NaN</td>\n",
       "      <td>0</td>\n",
       "      <td>1</td>\n",
       "    </tr>\n",
       "  </tbody>\n",
       "</table>\n",
       "</div>"
      ],
      "text/plain": [
       "       userId  restId  rating  rating_env  rating_flavor  rating_service  \\\n",
       "677       725      25     4.0         1.0            5.0             3.0   \n",
       "3417     3469     120     1.0         3.0            1.0             3.0   \n",
       "4756     4987     165     1.0         0.0            0.0             0.0   \n",
       "10580   10388     329     2.0         0.0            0.0             0.0   \n",
       "10596   10404     329     5.0         0.0            0.0             0.0   \n",
       "\n",
       "           timestamp                                            comment  \\\n",
       "677    1273893000000  Number of visits: too many to count\\nI've sear...   \n",
       "3417   1258293240000  bad！\\nAll the consumption need add 10% service...   \n",
       "4756   1310127240000  compaing to other parks, this one is not that ...   \n",
       "10580  1283387280000  In the city, it is occupied by, geography, and...   \n",
       "10596  1301124600000  I am in Shanghai to a golf still is not easy. ...   \n",
       "\n",
       "      comment_after_cut  length  category  \n",
       "677                 NaN       0         1  \n",
       "3417                NaN       0         0  \n",
       "4756                NaN       0         0  \n",
       "10580               NaN       0         0  \n",
       "10596               NaN       0         1  "
      ]
     },
     "execution_count": 41,
     "metadata": {},
     "output_type": "execute_result"
    }
   ],
   "source": [
    "data[data['comment_after_cut'].isnull()].head()"
   ]
  },
  {
   "cell_type": "code",
   "execution_count": 10,
   "metadata": {},
   "outputs": [
    {
     "name": "stdout",
     "output_type": "stream",
     "text": [
      "<class 'pandas.core.frame.DataFrame'>\n",
      "RangeIndex: 4422473 entries, 0 to 4422472\n",
      "Data columns (total 8 columns):\n",
      "userId            int64\n",
      "restId            int64\n",
      "rating            float64\n",
      "rating_env        float64\n",
      "rating_flavor     float64\n",
      "rating_service    float64\n",
      "timestamp         int64\n",
      "comment           object\n",
      "dtypes: float64(4), int64(3), object(1)\n",
      "memory usage: 269.9+ MB\n"
     ]
    }
   ],
   "source": [
    "pd_ratings.info()"
   ]
  },
  {
   "cell_type": "code",
   "execution_count": 11,
   "metadata": {
    "scrolled": true
   },
   "outputs": [
    {
     "data": {
      "text/plain": [
       "True"
      ]
     },
     "execution_count": 11,
     "metadata": {},
     "output_type": "execute_result"
    }
   ],
   "source": [
    "pd_ratings.isnull().values.any()"
   ]
  },
  {
   "cell_type": "code",
   "execution_count": 3,
   "metadata": {
    "scrolled": true
   },
   "outputs": [
    {
     "data": {
      "text/plain": [
       "userId            0.000000\n",
       "restId            0.000000\n",
       "rating            0.255192\n",
       "rating_env        0.078294\n",
       "rating_flavor     0.074315\n",
       "rating_service    0.078294\n",
       "timestamp         0.000000\n",
       "comment           0.071242\n",
       "dtype: float64"
      ]
     },
     "execution_count": 3,
     "metadata": {},
     "output_type": "execute_result"
    }
   ],
   "source": [
    "pd_ratings.isnull().sum() / pd_ratings.shape[0]"
   ]
  },
  {
   "cell_type": "markdown",
   "metadata": {},
   "source": [
    "rating  中有25%的缺失值，不能将缺失值全部dump掉"
   ]
  },
  {
   "cell_type": "code",
   "execution_count": 13,
   "metadata": {},
   "outputs": [],
   "source": [
    "pd_ratings.dropna(subset=['comment'], inplace=True)"
   ]
  },
  {
   "cell_type": "code",
   "execution_count": 14,
   "metadata": {
    "scrolled": false
   },
   "outputs": [
    {
     "data": {
      "text/plain": [
       "(4107409, 8)"
      ]
     },
     "execution_count": 14,
     "metadata": {},
     "output_type": "execute_result"
    }
   ],
   "source": [
    "pd_ratings.shape"
   ]
  },
  {
   "cell_type": "code",
   "execution_count": 15,
   "metadata": {
    "scrolled": true
   },
   "outputs": [
    {
     "data": {
      "text/plain": [
       "userId            0.000000\n",
       "restId            0.000000\n",
       "rating            0.274569\n",
       "rating_env        0.072427\n",
       "rating_flavor     0.068646\n",
       "rating_service    0.072427\n",
       "timestamp         0.000000\n",
       "comment           0.000000\n",
       "dtype: float64"
      ]
     },
     "execution_count": 15,
     "metadata": {},
     "output_type": "execute_result"
    }
   ],
   "source": [
    "pd_ratings.isnull().sum() / pd_ratings.shape[0]"
   ]
  },
  {
   "cell_type": "code",
   "execution_count": 7,
   "metadata": {},
   "outputs": [],
   "source": [
    "import jieba\n",
    "import re\n",
    "\n",
    "with open('stopwords.txt') as f2:\n",
    "    stopwords = f2.read().split('\\n')\n",
    "    \n",
    "def cut(string):\n",
    "    string = ''.join(re.findall(r'[\\u4e00-\\u9fa5]+', string))\n",
    "    words = [x for x in jieba.cut(string) if x not in stopwords]\n",
    "    \n",
    "    return ' '.join(words)"
   ]
  },
  {
   "cell_type": "code",
   "execution_count": 16,
   "metadata": {},
   "outputs": [],
   "source": [
    "pd_ratings['comment_after_cut'] = pd_ratings['comment'].astype(str).map(cut)"
   ]
  },
  {
   "cell_type": "code",
   "execution_count": 17,
   "metadata": {},
   "outputs": [],
   "source": [
    "pd_ratings['length'] = pd_ratings['comment_after_cut'].astype(str).map(lambda x : len(x.split()))"
   ]
  },
  {
   "cell_type": "code",
   "execution_count": 18,
   "metadata": {},
   "outputs": [],
   "source": [
    "pd_ratings['rating_env'] = pd_ratings['rating_env'].fillna(0)\n",
    "pd_ratings['rating_flavor'] = pd_ratings['rating_flavor'].fillna(0)\n",
    "pd_ratings['rating_service'] = pd_ratings['rating_service'].fillna(0)"
   ]
  },
  {
   "cell_type": "code",
   "execution_count": 20,
   "metadata": {
    "scrolled": true
   },
   "outputs": [
    {
     "data": {
      "text/plain": [
       "(1127768, 10)"
      ]
     },
     "execution_count": 20,
     "metadata": {},
     "output_type": "execute_result"
    }
   ],
   "source": [
    "pd_ratings[pd_ratings['rating'].isnull()].shape"
   ]
  },
  {
   "cell_type": "code",
   "execution_count": 36,
   "metadata": {},
   "outputs": [],
   "source": [
    "pd_ratings[~pd_ratings['rating'].isnull()].to_csv('reviews.csv', index = False)"
   ]
  },
  {
   "cell_type": "code",
   "execution_count": 33,
   "metadata": {},
   "outputs": [],
   "source": [
    "# for index, row in pd_ratings[pd_ratings['rating'].isnull()].iterrows():\n",
    "#     pd_ratings.iloc[index, 2] = int((row[3] + row[4] + row[5])/3)\n",
    "#     if index % 50000 == 0:\n",
    "#         print(f\"第{index}行。。。\")"
   ]
  },
  {
   "cell_type": "code",
   "execution_count": 35,
   "metadata": {},
   "outputs": [],
   "source": [
    "pd_ratings[['rating', 'rating_env', 'rating_flavor', 'rating_service', 'comment_after_cut','length']].to_csv('new_corpus.csv', index = False)"
   ]
  },
  {
   "cell_type": "code",
   "execution_count": 29,
   "metadata": {},
   "outputs": [],
   "source": [
    "import numpy as np\n",
    "pd_ratings['category'] = np.where(pd_ratings['rating'] > 3, 1, 0)"
   ]
  },
  {
   "cell_type": "code",
   "execution_count": 30,
   "metadata": {
    "scrolled": false
   },
   "outputs": [
    {
     "data": {
      "text/plain": [
       "userId                    0\n",
       "restId                    0\n",
       "rating               909655\n",
       "rating_env                0\n",
       "rating_flavor             0\n",
       "rating_service            0\n",
       "timestamp                 0\n",
       "comment                   0\n",
       "comment_after_cut         0\n",
       "length                    0\n",
       "category                  0\n",
       "dtype: int64"
      ]
     },
     "execution_count": 30,
     "metadata": {},
     "output_type": "execute_result"
    }
   ],
   "source": [
    "pd_ratings.isnull().sum()"
   ]
  },
  {
   "cell_type": "code",
   "execution_count": 31,
   "metadata": {},
   "outputs": [
    {
     "data": {
      "text/plain": [
       "0    经常 卡 久 不用 冻 只能 爸爸 吉利 莲 巧克力 以前 选择 多些 最近 一次 一种 选...\n",
       "1    喜欢 购物 感觉 市中心 会员卡 购物 不会 家乐福 沃尔马 那种 人多 很挤 场面 购物 ...\n",
       "3               适合 车一族 采购 没有 袋子 纸 箱子 感觉 有点像 仓库 东西 买 更好\n",
       "4    里面 进口 食品 不错 个人感觉 商品种类 比较 少 管理 灵活 退货 比较 麻烦 价格 方...\n",
       "5    方便 购物 环境 比较 舒服 人少 房高 感觉 通透 不像 商场 人多 楼层 低人 很闷 不...\n",
       "Name: comment_after_cut, dtype: object"
      ]
     },
     "execution_count": 31,
     "metadata": {},
     "output_type": "execute_result"
    }
   ],
   "source": [
    "pd_ratings['comment_after_cut'].head()"
   ]
  },
  {
   "cell_type": "code",
   "execution_count": 27,
   "metadata": {
    "scrolled": true
   },
   "outputs": [
    {
     "data": {
      "text/html": [
       "<div>\n",
       "<style scoped>\n",
       "    .dataframe tbody tr th:only-of-type {\n",
       "        vertical-align: middle;\n",
       "    }\n",
       "\n",
       "    .dataframe tbody tr th {\n",
       "        vertical-align: top;\n",
       "    }\n",
       "\n",
       "    .dataframe thead th {\n",
       "        text-align: right;\n",
       "    }\n",
       "</style>\n",
       "<table border=\"1\" class=\"dataframe\">\n",
       "  <thead>\n",
       "    <tr style=\"text-align: right;\">\n",
       "      <th></th>\n",
       "      <th>userId</th>\n",
       "      <th>restId</th>\n",
       "      <th>rating</th>\n",
       "      <th>rating_env</th>\n",
       "      <th>rating_flavor</th>\n",
       "      <th>rating_service</th>\n",
       "      <th>timestamp</th>\n",
       "      <th>length</th>\n",
       "    </tr>\n",
       "  </thead>\n",
       "  <tbody>\n",
       "    <tr>\n",
       "      <td>count</td>\n",
       "      <td>4.107409e+06</td>\n",
       "      <td>4.107409e+06</td>\n",
       "      <td>3.197754e+06</td>\n",
       "      <td>4.107409e+06</td>\n",
       "      <td>4.107409e+06</td>\n",
       "      <td>4.107409e+06</td>\n",
       "      <td>4.107409e+06</td>\n",
       "      <td>4.107409e+06</td>\n",
       "    </tr>\n",
       "    <tr>\n",
       "      <td>mean</td>\n",
       "      <td>1.120127e+05</td>\n",
       "      <td>1.208339e+05</td>\n",
       "      <td>3.316234e+00</td>\n",
       "      <td>2.528793e+00</td>\n",
       "      <td>2.810225e+00</td>\n",
       "      <td>2.504113e+00</td>\n",
       "      <td>1.275821e+12</td>\n",
       "      <td>4.443877e+01</td>\n",
       "    </tr>\n",
       "    <tr>\n",
       "      <td>std</td>\n",
       "      <td>1.200472e+05</td>\n",
       "      <td>7.037776e+04</td>\n",
       "      <td>9.860932e-01</td>\n",
       "      <td>1.127409e+00</td>\n",
       "      <td>1.185560e+00</td>\n",
       "      <td>1.127501e+00</td>\n",
       "      <td>4.334833e+10</td>\n",
       "      <td>4.431106e+01</td>\n",
       "    </tr>\n",
       "    <tr>\n",
       "      <td>min</td>\n",
       "      <td>0.000000e+00</td>\n",
       "      <td>0.000000e+00</td>\n",
       "      <td>0.000000e+00</td>\n",
       "      <td>0.000000e+00</td>\n",
       "      <td>0.000000e+00</td>\n",
       "      <td>0.000000e+00</td>\n",
       "      <td>1.049731e+12</td>\n",
       "      <td>0.000000e+00</td>\n",
       "    </tr>\n",
       "    <tr>\n",
       "      <td>25%</td>\n",
       "      <td>2.174800e+04</td>\n",
       "      <td>6.079100e+04</td>\n",
       "      <td>3.000000e+00</td>\n",
       "      <td>2.000000e+00</td>\n",
       "      <td>2.000000e+00</td>\n",
       "      <td>2.000000e+00</td>\n",
       "      <td>1.250581e+12</td>\n",
       "      <td>2.100000e+01</td>\n",
       "    </tr>\n",
       "    <tr>\n",
       "      <td>50%</td>\n",
       "      <td>6.784500e+04</td>\n",
       "      <td>1.227630e+05</td>\n",
       "      <td>3.000000e+00</td>\n",
       "      <td>2.000000e+00</td>\n",
       "      <td>3.000000e+00</td>\n",
       "      <td>2.000000e+00</td>\n",
       "      <td>1.288877e+12</td>\n",
       "      <td>3.000000e+01</td>\n",
       "    </tr>\n",
       "    <tr>\n",
       "      <td>75%</td>\n",
       "      <td>1.595370e+05</td>\n",
       "      <td>1.834180e+05</td>\n",
       "      <td>4.000000e+00</td>\n",
       "      <td>3.000000e+00</td>\n",
       "      <td>4.000000e+00</td>\n",
       "      <td>3.000000e+00</td>\n",
       "      <td>1.309968e+12</td>\n",
       "      <td>5.000000e+01</td>\n",
       "    </tr>\n",
       "    <tr>\n",
       "      <td>max</td>\n",
       "      <td>5.427050e+05</td>\n",
       "      <td>2.432460e+05</td>\n",
       "      <td>5.000000e+00</td>\n",
       "      <td>5.000000e+00</td>\n",
       "      <td>5.000000e+00</td>\n",
       "      <td>5.000000e+00</td>\n",
       "      <td>1.328681e+12</td>\n",
       "      <td>1.000000e+03</td>\n",
       "    </tr>\n",
       "  </tbody>\n",
       "</table>\n",
       "</div>"
      ],
      "text/plain": [
       "             userId        restId        rating    rating_env  rating_flavor  \\\n",
       "count  4.107409e+06  4.107409e+06  3.197754e+06  4.107409e+06   4.107409e+06   \n",
       "mean   1.120127e+05  1.208339e+05  3.316234e+00  2.528793e+00   2.810225e+00   \n",
       "std    1.200472e+05  7.037776e+04  9.860932e-01  1.127409e+00   1.185560e+00   \n",
       "min    0.000000e+00  0.000000e+00  0.000000e+00  0.000000e+00   0.000000e+00   \n",
       "25%    2.174800e+04  6.079100e+04  3.000000e+00  2.000000e+00   2.000000e+00   \n",
       "50%    6.784500e+04  1.227630e+05  3.000000e+00  2.000000e+00   3.000000e+00   \n",
       "75%    1.595370e+05  1.834180e+05  4.000000e+00  3.000000e+00   4.000000e+00   \n",
       "max    5.427050e+05  2.432460e+05  5.000000e+00  5.000000e+00   5.000000e+00   \n",
       "\n",
       "       rating_service     timestamp        length  \n",
       "count    4.107409e+06  4.107409e+06  4.107409e+06  \n",
       "mean     2.504113e+00  1.275821e+12  4.443877e+01  \n",
       "std      1.127501e+00  4.334833e+10  4.431106e+01  \n",
       "min      0.000000e+00  1.049731e+12  0.000000e+00  \n",
       "25%      2.000000e+00  1.250581e+12  2.100000e+01  \n",
       "50%      2.000000e+00  1.288877e+12  3.000000e+01  \n",
       "75%      3.000000e+00  1.309968e+12  5.000000e+01  \n",
       "max      5.000000e+00  1.328681e+12  1.000000e+03  "
      ]
     },
     "execution_count": 27,
     "metadata": {},
     "output_type": "execute_result"
    }
   ],
   "source": [
    "pd_ratings.describe()"
   ]
  },
  {
   "cell_type": "code",
   "execution_count": null,
   "metadata": {},
   "outputs": [],
   "source": [
    "pd_ratings.head()"
   ]
  },
  {
   "cell_type": "code",
   "execution_count": null,
   "metadata": {},
   "outputs": [],
   "source": [
    "import numpy as np\n",
    "\n",
    "ratio_train = 0.7 #训练集比例\n",
    "ratio_trainval = 0.2 #验证集比例\n",
    "ratio_val = 0.1 #测试集比例\n",
    "\n",
    "np.random.shuffle(files_list) ##打乱文件列表\n",
    "cnt_val = round(len(files_list) * ratio_val ,0)\n",
    "cnt_trainval = round(len(files_list) * ratio_trainval ,0)\n",
    "cnt_train = len(files_list) - cnt_val - cnt_trainval\n",
    "print(\"val Sample:\" + str(cnt_val))\n",
    "print(\"trainval Sample:\" + str(cnt_trainval))\n",
    "print(\"train Sample:\" + str(cnt_train))"
   ]
  },
  {
   "cell_type": "code",
   "execution_count": 30,
   "metadata": {
    "scrolled": true
   },
   "outputs": [
    {
     "data": {
      "text/plain": [
       "<matplotlib.axes._subplots.AxesSubplot at 0x12a24e250>"
      ]
     },
     "execution_count": 30,
     "metadata": {},
     "output_type": "execute_result"
    },
    {
     "data": {
      "image/png": "[encoded data removed]",
      "text/plain": [
       "<Figure size 432x288 with 1 Axes>"
      ]
     },
     "metadata": {
      "needs_background": "light"
     },
     "output_type": "display_data"
    }
   ],
   "source": [
    "%matplotlib inline\n",
    "pd_ratings.rating.plot(kind='hist')"
   ]
  },
  {
   "cell_type": "code",
   "execution_count": 35,
   "metadata": {
    "scrolled": true
   },
   "outputs": [
    {
     "data": {
      "text/plain": [
       "4.0    1480733\n",
       "3.0    1130759\n",
       "5.0     421155\n",
       "2.0     161678\n",
       "1.0      99553\n",
       "0.0         15\n",
       "Name: rating, dtype: int64"
      ]
     },
     "execution_count": 35,
     "metadata": {},
     "output_type": "execute_result"
    }
   ],
   "source": [
    "pd_ratings.rating.value_counts()"
   ]
  },
  {
   "cell_type": "code",
   "execution_count": 36,
   "metadata": {},
   "outputs": [
    {
     "data": {
      "text/plain": [
       "6"
      ]
     },
     "execution_count": 36,
     "metadata": {},
     "output_type": "execute_result"
    }
   ],
   "source": [
    "pd_ratings.rating.nunique()"
   ]
  },
  {
   "cell_type": "code",
   "execution_count": 17,
   "metadata": {},
   "outputs": [
    {
     "data": {
      "text/plain": [
       "(1128580, 8)"
      ]
     },
     "execution_count": 17,
     "metadata": {},
     "output_type": "execute_result"
    }
   ],
   "source": [
    "pd_ratings[pd_ratings.rating.isna()].shape"
   ]
  },
  {
   "cell_type": "markdown",
   "metadata": {},
   "source": [
    "rating 中有接近四分之一为空值，显然不能直接去除"
   ]
  },
  {
   "cell_type": "code",
   "execution_count": 10,
   "metadata": {},
   "outputs": [],
   "source": [
    "sample = pd_ratings[:1000]"
   ]
  },
  {
   "cell_type": "code",
   "execution_count": 15,
   "metadata": {},
   "outputs": [
    {
     "data": {
      "text/plain": [
       "500"
      ]
     },
     "execution_count": 15,
     "metadata": {},
     "output_type": "execute_result"
    }
   ],
   "source": [
    "sample[~sample.rating.isna()].shape[0]"
   ]
  },
  {
   "cell_type": "code",
   "execution_count": 19,
   "metadata": {},
   "outputs": [
    {
     "data": {
      "text/plain": [
       "4.0    219\n",
       "3.0    212\n",
       "5.0     45\n",
       "2.0     19\n",
       "1.0      5\n",
       "Name: rating, dtype: int64"
      ]
     },
     "execution_count": 19,
     "metadata": {},
     "output_type": "execute_result"
    }
   ],
   "source": [
    "sample.rating.value_counts()"
   ]
  },
  {
   "cell_type": "code",
   "execution_count": 22,
   "metadata": {},
   "outputs": [],
   "source": [
    "sample = pd_ratings[~pd_ratings.comment.isna()]"
   ]
  },
  {
   "cell_type": "code",
   "execution_count": 23,
   "metadata": {},
   "outputs": [
    {
     "data": {
      "text/plain": [
       "(4107409, 8)"
      ]
     },
     "execution_count": 23,
     "metadata": {},
     "output_type": "execute_result"
    }
   ],
   "source": [
    "sample.shape"
   ]
  },
  {
   "cell_type": "code",
   "execution_count": 24,
   "metadata": {},
   "outputs": [
    {
     "data": {
      "text/plain": [
       "(1127768, 8)"
      ]
     },
     "execution_count": 24,
     "metadata": {},
     "output_type": "execute_result"
    }
   ],
   "source": [
    "sample[sample.rating.isna()].shape"
   ]
  },
  {
   "cell_type": "code",
   "execution_count": 25,
   "metadata": {},
   "outputs": [
    {
     "data": {
      "text/plain": [
       "(573, 8)"
      ]
     },
     "execution_count": 25,
     "metadata": {},
     "output_type": "execute_result"
    }
   ],
   "source": [
    "sample[sample.rating.isna()&sample.rating_env.isna()&sample.rating_flavor.isna()&sample.rating_service.isna()].shape"
   ]
  },
  {
   "cell_type": "code",
   "execution_count": null,
   "metadata": {},
   "outputs": [],
   "source": []
  }
 ],
 "metadata": {
  "kernelspec": {
   "display_name": "Python 3",
   "language": "python",
   "name": "python3"
  },
  "language_info": {
   "codemirror_mode": {
    "name": "ipython",
    "version": 3
   },
   "file_extension": ".py",
   "mimetype": "text/x-python",
   "name": "python",
   "nbconvert_exporter": "python",
   "pygments_lexer": "ipython3",
   "version": "3.7.1"
  }
 },
 "nbformat": 4,
 "nbformat_minor": 2
}
